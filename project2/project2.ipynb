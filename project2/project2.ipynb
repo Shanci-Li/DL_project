{
 "cells": [
  {
   "cell_type": "code",
   "execution_count": 1,
   "id": "occupational-arabic",
   "metadata": {},
   "outputs": [],
   "source": [
    "import matplotlib.pyplot as plt\n",
    "import numpy as np\n",
    "import math"
   ]
  },
  {
   "cell_type": "code",
   "execution_count": 2,
   "id": "explicit-mumbai",
   "metadata": {},
   "outputs": [],
   "source": [
    "from helpers import LossMSE, generate_data\n",
    "import torch\n",
    "from activation import Relu, Tanh, Sigmoid\n",
    "from linear import Linear\n",
    "from optimizer import SGD\n",
    "from sequential import Sequential"
   ]
  },
  {
   "cell_type": "code",
   "execution_count": 3,
   "id": "apart-boost",
   "metadata": {},
   "outputs": [],
   "source": [
    "train_inputs, train_targets = generate_data(1000)\n",
    "test_inputs, test_targets = generate_data(1000)"
   ]
  },
  {
   "cell_type": "code",
   "execution_count": 4,
   "id": "seasonal-branch",
   "metadata": {},
   "outputs": [],
   "source": [
    "# disable the auto_grad\n",
    "torch.set_grad_enabled(False)\n",
    "\n",
    "# initialize parameters\n",
    "criterion = LossMSE()\n",
    "lr = {'eta': 0.002,\n",
    "      'gamma': 0.3}\n",
    "n = 1000\n",
    "epochs = 500\n",
    "batch_size = 20"
   ]
  },
  {
   "cell_type": "code",
   "execution_count": 5,
   "id": "exterior-williams",
   "metadata": {},
   "outputs": [],
   "source": [
    "# Compare of\n",
    "model1 = Sequential(Linear(2, 25), Relu(),\n",
    "                   Linear(25, 25), Relu(),\n",
    "                   Linear(25, 25), Tanh(),\n",
    "                   Linear(25, 1), Sigmoid())\n",
    "\n",
    "model2 = Sequential(Linear(2, 25), Relu(),\n",
    "                   Linear(25, 25), Relu(),\n",
    "                   Linear(25, 25), Tanh(),\n",
    "                   Linear(25, 1), Sigmoid())\n",
    "\n",
    "model3 = Sequential(Linear(2, 25), Relu(),\n",
    "                   Linear(25, 25), Relu(),\n",
    "                   Linear(25, 25), Tanh(),\n",
    "                   Linear(25, 1), Sigmoid())\n",
    "\n",
    "#initialize optimizer and choose the method to update the gradients\n",
    "# you can choose among 2 methods: 'sgd' and 'sgd_momentum'\n",
    "optimizer1 = SGD(model1, method='sgd')\n",
    "optimizer2 = SGD(model2, method='momentum')\n",
    "optimizer3 = SGD(model3, method='adam')\n",
    "\n",
    "print('optimizer1: ', optimizer1.method)\n",
    "train_loss1, train_acc1, test_loss1, test_acc1 = model1.fit(train_inputs, train_targets, test_inputs, test_targets,\n",
    "                                                       criterion, optimizer1, epochs, batch_size, lr, print_5epoch=False)\n",
    "train_loss2, train_acc2, test_loss2, test_acc2 = model2.fit(train_inputs, train_targets, test_inputs, test_targets,\n",
    "                                                       criterion, optimizer2, epochs, batch_size, lr, print_5epoch=False)\n",
    "train_loss3, train_acc3, test_loss3, test_acc3 = model2.fit(train_inputs, train_targets, test_inputs, test_targets,\n",
    "                                                       criterion, optimizer3, epochs, batch_size, lr, print_5epoch=False)\n",
    "# train_loss2 = list(range(400))\n",
    "\n",
    "title = 'MSE loss curve'\n",
    "x_label = 'epoch'\n",
    "\n",
    "fig, ax = plt.subplots(1, 1, figsize=(7, 7))\n",
    "fig.suptitle(title)\n",
    "ax.set_ylabel('MSE')\n",
    "ax.set_xlabel(x_label)\n",
    "\n",
    "\n",
    "ax.plot(test_loss1, label=\"test_SGD\")\n",
    "ax.plot(test_loss2, label=\"test_momentum\")\n",
    "ax.plot(test_loss3, label=\"test_adam\")\n",
    "\n",
    "\n",
    "axhandles, axlabels = ax.get_legend_handles_labels()\n",
    "if len(axlabels) > 0:\n",
    "    ax.legend(axhandles, axlabels)\n",
    "\n",
    "fig.tight_layout()\n",
    "plt.subplots_adjust(top=0.9)\n",
    "plt.show()"
   ]
  },
  {
   "cell_type": "code",
   "execution_count": 6,
   "id": "immediate-civilization",
   "metadata": {
    "pycharm": {
     "name": "#%%\n"
    }
   },
   "outputs": [],
   "source": [
    "model = Sequential(Linear(2, 25), Relu(),\n",
    "                   Linear(25, 25), Relu(),\n",
    "                   Linear(25, 25), Tanh(),\n",
    "                   Linear(25, 1), Sigmoid())\n",
    "\n",
    "\n",
    "# initialize optimizer and choose the method to update the gradients\n",
    "# you can choose among 2 methods: 'sgd' and 'sgd_momentum'\n",
    "optimizer = SGD(model, method='sgd')\n",
    "\n",
    "\n",
    "print('optimizer1: ', optimizer.method)\n",
    "train_loss, train_acc, test_loss, test_acc = model.fit(train_inputs, train_targets, test_inputs, test_targets,\n",
    "                                                       criterion, optimizer, epochs, batch_size, lr, print_5epoch=True)\n",
    "\n",
    "\n",
    "title = 'MSE loss curve'\n",
    "x_label = 'epoch'\n",
    "fig, (ax1, ax2) = plt.subplots(1, 2, figsize=(15, 7))\n",
    "\n",
    "fig.suptitle(title)\n",
    "ax1.set_ylabel('MSE')\n",
    "ax1.set_xlabel(x_label)\n",
    "ax2.set_ylabel('Accuracy %')\n",
    "ax2.set_xlabel(x_label)\n",
    "\n",
    "ax1.plot(test_loss, label=\"test_SGD\")\n",
    "\n",
    "ax1.plot(train_loss, label=\"training_SGD\")\n",
    "\n",
    "ax2.plot(train_acc, label=\"training_SGD\")\n",
    "ax2.plot(test_acc, label=\"test_SGD\")\n",
    "\n",
    "\n",
    "ax1handles, ax1labels = ax1.get_legend_handles_labels()\n",
    "if len(ax1labels) > 0:\n",
    "    ax1.legend(ax1handles, ax1labels)\n",
    "\n",
    "ax2handles, ax2labels = ax2.get_legend_handles_labels()\n",
    "if len(ax2labels) > 0:\n",
    "    ax2.legend(ax2handles, ax2labels)\n",
    "\n",
    "fig.tight_layout()\n",
    "plt.subplots_adjust(top=0.9)\n",
    "\n",
    "plt.show()\n"
   ]
  }
 ],
 "metadata": {
  "kernelspec": {
   "display_name": "Python 3",
   "language": "python",
   "name": "python3"
  },
  "language_info": {
   "codemirror_mode": {
    "name": "ipython",
    "version": 3
   },
   "file_extension": ".py",
   "mimetype": "text/x-python",
   "name": "python",
   "nbconvert_exporter": "python",
   "pygments_lexer": "ipython3",
   "version": "3.6.9"
  }
 },
 "nbformat": 4,
 "nbformat_minor": 5
}